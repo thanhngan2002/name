{
  "nbformat": 4,
  "nbformat_minor": 0,
  "metadata": {
    "colab": {
      "name": "BTLT.ipynb",
      "provenance": [],
      "authorship_tag": "ABX9TyO3hI2EN4YwsUZYmD2JdFV1",
      "include_colab_link": true
    },
    "kernelspec": {
      "name": "python3",
      "display_name": "Python 3"
    }
  },
  "cells": [
    {
      "cell_type": "markdown",
      "metadata": {
        "id": "view-in-github",
        "colab_type": "text"
      },
      "source": [
        "<a href=\"https://colab.research.google.com/github/thanhngan2002/name/blob/main/BTLT.ipynb\" target=\"_parent\"><img src=\"https://colab.research.google.com/assets/colab-badge.svg\" alt=\"Open In Colab\"/></a>"
      ]
    },
    {
      "cell_type": "markdown",
      "metadata": {
        "id": "oEw54BurQESJ"
      },
      "source": [
        "Bài 1"
      ]
    },
    {
      "cell_type": "code",
      "metadata": {
        "id": "Rm83d0A7GyQs",
        "outputId": "7a058e4b-65c3-45cd-8235-5dc1a531a31d",
        "colab": {
          "base_uri": "https://localhost:8080/"
        }
      },
      "source": [
        "a = input(\"a=\")\n",
        "b = input(\"b=\")\n",
        "a= int(a)\n",
        "b= int(b)\n",
        "c=a+b\n",
        "print(\"a+b\",c)\n",
        "c=a*b\n",
        "print(\"a*b\",c)\n",
        "c=a-b\n",
        "print(\"a-b\",c)\n",
        "print(\"a/b=\",a//b,\",du:\")\n",
        "print(\"a/b=\",a%b,\",nguyen\")\n"
      ],
      "execution_count": null,
      "outputs": [
        {
          "output_type": "stream",
          "text": [
            "a=4\n",
            "b=5\n",
            "a+b 9\n",
            "a*b 20\n",
            "a-b -1\n",
            "a/b= 0 ,du:\n",
            "a/b= 4 ,nguyen\n"
          ],
          "name": "stdout"
        }
      ]
    },
    {
      "cell_type": "markdown",
      "metadata": {
        "id": "aiH8mwe_QIwj"
      },
      "source": [
        "Bài 2"
      ]
    },
    {
      "cell_type": "code",
      "metadata": {
        "id": "xa_4M6V4QNil",
        "outputId": "5a80d039-37ea-4669-d29f-d11a78868ea9",
        "colab": {
          "base_uri": "https://localhost:8080/"
        }
      },
      "source": [
        "a= input(\"a=\")\n",
        "b= input(\"b=\")\n",
        "a= float(a)\n",
        "b= float(b)\n",
        "c=a+b\n",
        "print(\"a+b\",c)\n",
        "c=a-b\n",
        "print(\"a-b\",c)\n",
        "c=a*b\n",
        "print(\"a*b\",c)\n",
        "c=a/b\n",
        "print(\"a/b\",c)"
      ],
      "execution_count": null,
      "outputs": [
        {
          "output_type": "stream",
          "text": [
            "a=4.5\n",
            "b=5.5\n",
            "a+b 10.0\n",
            "a-b -1.0\n",
            "a*b 24.75\n",
            "a/b 0.8181818181818182\n"
          ],
          "name": "stdout"
        }
      ]
    },
    {
      "cell_type": "markdown",
      "metadata": {
        "id": "z9_U_I99UIZk"
      },
      "source": [
        "Bài 3"
      ]
    },
    {
      "cell_type": "code",
      "metadata": {
        "id": "nqYa5oa3UKR5",
        "outputId": "3a468870-d5a7-4c86-d1e5-cfc226f520e3",
        "colab": {
          "base_uri": "https://localhost:8080/"
        }
      },
      "source": [
        "a= int(a)\n",
        "input(\"a=\")\n",
        "import math\n",
        "print(\"|a|=\",abs(a))\n",
        "print(\"phan nguyen cua so a la:\",math.trunc(a))\n",
        "n= float(b)\n",
        "input(\"b=\")\n",
        "print(\"a^b=\",a**b)\n",
        "print(\"can bac hai cua |a| la:\",math.sqrt(abs(b)))\n",
        "\n",
        "\n",
        "\n"
      ],
      "execution_count": null,
      "outputs": [
        {
          "output_type": "stream",
          "text": [
            "a=4\n",
            "|a|= 4\n",
            "phan nguyen cua so a la: 4\n",
            "b=5.5\n",
            "a^b= 2048.0\n",
            "can bac hai cua |a| la: 2.345207879911715\n"
          ],
          "name": "stdout"
        }
      ]
    },
    {
      "cell_type": "markdown",
      "metadata": {
        "id": "MvdpsVQ6a4Yd"
      },
      "source": [
        "Bài 4"
      ]
    },
    {
      "cell_type": "code",
      "metadata": {
        "id": "SPYpx_lha56O",
        "outputId": "1f5c1d91-0bcd-45d9-d2c2-3b104f852c99",
        "colab": {
          "base_uri": "https://localhost:8080/"
        }
      },
      "source": [
        "if a>=b :\n",
        "  print(\"a>=b\")\n",
        "if a<=b :  \n",
        "  print(\"a<=b\")\n",
        "if a>b :\n",
        "  print(\"a>b\")\n",
        "if a<b :\n",
        "  print(\"a<b\")\n",
        "if a!=b :\n",
        "  print(\"a!=b\")\n"
      ],
      "execution_count": null,
      "outputs": [
        {
          "output_type": "stream",
          "text": [
            "a<=b\n",
            "a<b\n",
            "a!=b\n"
          ],
          "name": "stdout"
        }
      ]
    },
    {
      "cell_type": "markdown",
      "metadata": {
        "id": "u-i8syhxdJnK"
      },
      "source": [
        "Bài 5"
      ]
    },
    {
      "cell_type": "code",
      "metadata": {
        "id": "II9XtceJdLK0",
        "outputId": "28b2ec18-6919-4722-e78c-f3b1ebae3379",
        "colab": {
          "base_uri": "https://localhost:8080/"
        }
      },
      "source": [
        "string = input(\"chuoi ky tu:\")\n",
        "print(\"chuoi in hoa:\", string.upper())\n",
        "print(\"chuoi in thuong:\", string.lower())"
      ],
      "execution_count": null,
      "outputs": [
        {
          "output_type": "stream",
          "text": [
            "chuoi ky tu:abcde\n",
            "chuoi in hoa: ABCDE\n",
            "chuoi in thuong: abcde\n"
          ],
          "name": "stdout"
        }
      ]
    },
    {
      "cell_type": "markdown",
      "metadata": {
        "id": "7tZ51AuSe1V2"
      },
      "source": [
        "Bài 6"
      ]
    },
    {
      "cell_type": "code",
      "metadata": {
        "id": "HvRYsVufe3rf",
        "outputId": "a7536885-be70-4ccf-8fce-a65c29e1ac49",
        "colab": {
          "base_uri": "https://localhost:8080/"
        }
      },
      "source": [
        "tho= input(\"\"\"Nếu có thể sao ta không làm thử \n",
        "Để tâm hồn khắc hai chữ bình an\n",
        "Cho đôi chân bước thanh thản nhẹ nhàng\n",
        "Dù hướng đời có muôn ngàn sỏi đá\"\"\")\n",
        "print(\"tho\")\n",
        "\n"
      ],
      "execution_count": 59,
      "outputs": [
        {
          "output_type": "stream",
          "text": [
            "Nếu có thể sao ta không làm thử \n",
            "Để tâm hồn khắc hai chữ bình an\n",
            "Cho đôi chân bước thanh thản nhẹ nhàng\n",
            "Dù hướng đời có muôn ngàn sỏi đá\n",
            "tho\n"
          ],
          "name": "stdout"
        }
      ]
    }
  ]
}